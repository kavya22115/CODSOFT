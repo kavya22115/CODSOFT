{
 "cells": [
  {
   "cell_type": "code",
   "execution_count": 46,
   "id": "181a0e63-7784-4c86-aa28-5b8819b07e50",
   "metadata": {},
   "outputs": [
    {
     "name": "stdout",
     "output_type": "stream",
     "text": [
      "  movie_id                     title                genre           director  \\\n",
      "0   movie1              The Avengers  [action, adventure]        Joss Whedon   \n",
      "1   movie2              Notting Hill    [comedy, romance]      Roger Michell   \n",
      "2   movie3              Interstellar     [action, sci-fi]  Christopher Nolan   \n",
      "3   movie4  The Shawshank Redemption       [drama, crime]     Frank Darabont   \n",
      "4   movie5             The Conjuring   [horror, thriller]          James Wan   \n",
      "\n",
      "                                  actor  rating  \n",
      "0      [Robert Downey Jr., Chris Evans]     4.5  \n",
      "1           [Julia Roberts, Hugh Grant]     3.8  \n",
      "2  [Matthew McConaughey, Anne Hathaway]     4.2  \n",
      "3         [Tim Robbins, Morgan Freeman]     4.7  \n",
      "4        [Patrick Wilson, Vera Farmiga]     3.9  \n"
     ]
    }
   ],
   "source": [
    "import pandas as pd\n",
    "from sklearn.metrics.pairwise import cosine_similarity\n",
    "movie_data = {\n",
    "    'movie_id': ['movie1', 'movie2', 'movie3', 'movie4', 'movie5'],\n",
    "    'title': ['The Avengers', 'Notting Hill', 'Interstellar', 'The Shawshank Redemption', 'The Conjuring'],\n",
    "    'genre': [['action', 'adventure'], ['comedy', 'romance'], ['action', 'sci-fi'], ['drama', 'crime'], ['horror', 'thriller']],\n",
    "    'director': ['Joss Whedon', 'Roger Michell', 'Christopher Nolan', 'Frank Darabont', 'James Wan'],\n",
    "    'actor': [['Robert Downey Jr.', 'Chris Evans'], ['Julia Roberts', 'Hugh Grant'], ['Matthew McConaughey', 'Anne Hathaway'], ['Tim Robbins', 'Morgan Freeman'], ['Patrick Wilson', 'Vera Farmiga']],\n",
    "    'rating': [4.5, 3.8, 4.2, 4.7, 3.9]\n",
    "}\n",
    "movies = pd.DataFrame(movie_data)\n",
    "print(movies)\n"
   ]
  },
  {
   "cell_type": "code",
   "execution_count": 47,
   "id": "17d4b50b-6965-44da-8b8d-b5851e834b57",
   "metadata": {},
   "outputs": [],
   "source": [
    "def get_item_similarity(movie1, movie2):\n",
    "    \"\"\"\n",
    "    Calculate the cosine similarity between two movies based on their features.\n",
    "    \n",
    "    Parameters:\n",
    "    movie1 (str): The ID of the first movie.\n",
    "    movie2 (str): The ID of the second movie.\n",
    "    \n",
    "    Returns:\n",
    "    float: The cosine similarity between the two movies.\n",
    "    \"\"\"\n",
    "    movie1_features = movies.loc[movies['movie_id'] == movie1, ['genre', 'director', 'actor']].values[0]\n",
    "    movie2_features = movies.loc[movies['movie_id'] == movie2, ['genre', 'director', 'actor']].values[0]\n",
    "    \n",
    "    feature_values = list(set([item for sublist in movie1_features + movie2_features for item in sublist]))\n",
    "    movie1_vector = [1 if feature in movie1_features else 0 for feature in feature_values]\n",
    "    movie2_vector = [1 if feature in movie2_features else 0 for feature in feature_values]\n",
    "    \n",
    "    return cosine_similarity([movie1_vector], [movie2_vector])[0][0]\n"
   ]
  },
  {
   "cell_type": "code",
   "execution_count": 48,
   "id": "b624c483-fbcb-4a4f-b92f-b6266b8dac06",
   "metadata": {},
   "outputs": [],
   "source": [
    "def get_content_based_recommendations(target_movie):\n",
    "    \"\"\"\n",
    "    Get the top 3 movie recommendations based on content-based filtering.\n",
    "    \n",
    "    Parameters:\n",
    "    target_movie (str): The ID of the target movie.\n",
    "    \n",
    "    Returns:\n",
    "    list: A list of the titles of the top 3 recommended movies.\n",
    "    \"\"\"\n",
    "    similarities = [(movie, get_item_similarity(target_movie, movie)) for movie in movies['movie_id'] if movie != target_movie]\n",
    "    similarities.sort(key=lambda x: x[1], reverse=True)\n",
    "    \n",
    "    return [movies.loc[movies['movie_id'] == movie, 'title'].values[0] for movie in [movie for movie, _ in similarities[:3]]]\n"
   ]
  },
  {
   "cell_type": "code",
   "execution_count": 51,
   "id": "f85b5410-35c6-4879-a662-173a53b714c4",
   "metadata": {},
   "outputs": [
    {
     "name": "stdout",
     "output_type": "stream",
     "text": [
      "Content-Based Recommendations for 'The Avengers':\n",
      "- Notting Hill\n",
      "- Interstellar\n",
      "- The Shawshank Redemption\n"
     ]
    }
   ],
   "source": [
    "\n",
    "target_movie = 'movie1'\n",
    "recommendations = get_content_based_recommendations(target_movie)\n",
    "\n",
    "print(f\"Content-Based Recommendations for '{movies.loc[movies['movie_id'] == target_movie, 'title'].values[0]}':\")\n",
    "for movie in recommendations:\n",
    "    print(f\"- {movie}\")"
   ]
  },
  {
   "cell_type": "code",
   "execution_count": null,
   "id": "94d88c33-0820-4c59-8f3c-8f0f02f164e6",
   "metadata": {},
   "outputs": [],
   "source": []
  }
 ],
 "metadata": {
  "kernelspec": {
   "display_name": "Python 3 (ipykernel)",
   "language": "python",
   "name": "python3"
  },
  "language_info": {
   "codemirror_mode": {
    "name": "ipython",
    "version": 3
   },
   "file_extension": ".py",
   "mimetype": "text/x-python",
   "name": "python",
   "nbconvert_exporter": "python",
   "pygments_lexer": "ipython3",
   "version": "3.11.7"
  }
 },
 "nbformat": 4,
 "nbformat_minor": 5
}
